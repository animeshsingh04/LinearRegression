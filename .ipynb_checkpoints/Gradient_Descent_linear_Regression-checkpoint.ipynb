{
 "cells": [
  {
   "cell_type": "code",
   "execution_count": 4,
   "metadata": {},
   "outputs": [],
   "source": [
    "import pandas as pd\n",
    "import numpy as np\n",
    "import matplotlib.pyplot as plt"
   ]
  },
  {
   "cell_type": "code",
   "execution_count": 6,
   "metadata": {},
   "outputs": [],
   "source": [
    "def readfile(filename):\n",
    "    data = pd.read_csv('salary_data.csv')\n",
    "    X = data.iloc[:, 0]\n",
    "    Y = data.iloc[:, 1]\n",
    "    lt.title('Salary VS Experience Data')\n",
    "    plt.scatter(X, Y)\n",
    "    plt.show()\n",
    "    return X, Y\n"
   ]
  },
  {
   "cell_type": "code",
   "execution_count": 7,
   "metadata": {},
   "outputs": [],
   "source": [
    "def buildModel(X,Y):\n",
    "    \n",
    "    m = 0 # we can do something like this aw well --> np.random.random(x.shape[1])\n",
    "    c = 0\n",
    "\n",
    "    L = 0.0001  # The learning Rate\n",
    "    epochs = 1000  # The number of iterations to perform gradient descent\n",
    "    n = float(len(X)) # Number of elements in X\n",
    "\n",
    "# Performing Gradient Descent \n",
    "# do derivative of 1/2n(sum((c+mX(i) - y(i)))**2)\n",
    "    for i in range(epochs): \n",
    "        Y_pred = m*X + c  # The current predicted value of Y\n",
    "        D_m = (-2/n) * sum(X * (Y - Y_pred))  # Partial Derivative wrt m\n",
    "        D_c = (-2/n) * sum(Y - Y_pred)  # Partial Derivative wrt c\n",
    "        m = m - L * D_m  # Update m\n",
    "        c = c - L * D_c  # Update c\n",
    "    return (m, c)"
   ]
  },
  {
   "cell_type": "code",
   "execution_count": 8,
   "metadata": {},
   "outputs": [],
   "source": [
    "def bestFitLine(X,m,c):\n",
    "    Y_pred = m*X + c\n",
    "    return Y_pred"
   ]
  },
  {
   "cell_type": "code",
   "execution_count": 10,
   "metadata": {},
   "outputs": [],
   "source": [
    "#Plot graph\n",
    "def plotGraph(X,Y,Y_pred):\n",
    "    plt.scatter(X, Y) # actual\n",
    "    plt.plot([min(X), max(X)], [min(Y_pred), max(Y_pred)], color='red') # predicted\n",
    "    plt.show()"
   ]
  },
  {
   "cell_type": "code",
   "execution_count": null,
   "metadata": {},
   "outputs": [
    {
     "data": {
      "image/png": "[encoded data removed]",
      "text/plain": [
       "<Figure size 432x288 with 1 Axes>"
      ]
     },
     "metadata": {
      "needs_background": "light"
     },
     "output_type": "display_data"
    },
    {
     "data": {
      "image/png": "[encoded data removed]",
      "text/plain": [
       "<Figure size 432x288 with 1 Axes>"
      ]
     },
     "metadata": {
      "needs_background": "light"
     },
     "output_type": "display_data"
    }
   ],
   "source": [
    "def predict(x, m,c):\n",
    "    y_pred = c + m*x\n",
    "    return y_pred\n",
    "\n",
    "if __name__ == \"__main__\":\n",
    "    # load the dataset\n",
    "    X, Y = readfile('salary_data.csv')\n",
    "    m,c = buildModel(X,Y)   \n",
    "    Y_pred=bestFitLine(X,m,c)\n",
    "    plotGraph(X,Y,Y_pred)\n",
    "    x = input()\n",
    "    x = np.array(x)\n",
    "    print(type(x))\n",
    "    predictedValue = predict(x,m,c)"
   ]
  },
  {
   "cell_type": "code",
   "execution_count": null,
   "metadata": {},
   "outputs": [],
   "source": []
  }
 ],
 "metadata": {
  "kernelspec": {
   "display_name": "Python 3",
   "language": "python",
   "name": "python3"
  },
  "language_info": {
   "codemirror_mode": {
    "name": "ipython",
    "version": 3
   },
   "file_extension": ".py",
   "mimetype": "text/x-python",
   "name": "python",
   "nbconvert_exporter": "python",
   "pygments_lexer": "ipython3",
   "version": "3.7.2"
  }
 },
 "nbformat": 4,
 "nbformat_minor": 2
}
