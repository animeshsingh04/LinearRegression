{
 "cells": [
  {
   "cell_type": "code",
   "execution_count": 2,
   "metadata": {},
   "outputs": [],
   "source": [
    "import pandas as pd\n",
    "import numpy as np\n",
    "import matplotlib.pyplot as plt\n",
    "plt.rcParams['figure.figsize'] = (12.0, 9.0)"
   ]
  },
  {
   "cell_type": "code",
   "execution_count": 4,
   "metadata": {},
   "outputs": [
    {
     "name": "stdout",
     "output_type": "stream",
     "text": [
      "9449.962321455077 25792.20019866869\n",
      "0      36187.158752\n",
      "1      38077.151217\n",
      "2      39967.143681\n",
      "3      44692.124842\n",
      "4      46582.117306\n",
      "5      53197.090931\n",
      "6      54142.087163\n",
      "7      56032.079627\n",
      "8      56032.079627\n",
      "9      60757.060788\n",
      "10     62647.053252\n",
      "11     63592.049484\n",
      "12     63592.049484\n",
      "13     64537.045717\n",
      "14     68317.030645\n",
      "15     72097.015574\n",
      "16     73987.008038\n",
      "17     75877.000502\n",
      "18     81546.977895\n",
      "19     82491.974127\n",
      "20     90051.943985\n",
      "21     92886.932681\n",
      "22    100446.902538\n",
      "23    103281.891235\n",
      "24    108006.872395\n",
      "25    110841.861092\n",
      "26    115566.842252\n",
      "27    116511.838485\n",
      "28    123126.812110\n",
      "29    125016.804574\n",
      "Name: YearsExperience, dtype: float64 0      39343\n",
      "1      46205\n",
      "2      37731\n",
      "3      43525\n",
      "4      39891\n",
      "5      56642\n",
      "6      60150\n",
      "7      54445\n",
      "8      64445\n",
      "9      57189\n",
      "10     63218\n",
      "11     55794\n",
      "12     56957\n",
      "13     57081\n",
      "14     61111\n",
      "15     67938\n",
      "16     66029\n",
      "17     83088\n",
      "18     81363\n",
      "19     93940\n",
      "20     91738\n",
      "21     98273\n",
      "22    101302\n",
      "23    113812\n",
      "24    109431\n",
      "25    105582\n",
      "26    116969\n",
      "27    112635\n",
      "28    122391\n",
      "29    121872\n",
      "Name: Salary, dtype: int64\n"
     ]
    },
    {
     "data": {
      "image/png": "[encoded data removed]",
      "text/plain": [
       "<Figure size 432x288 with 1 Axes>"
      ]
     },
     "metadata": {
      "needs_background": "light"
     },
     "output_type": "display_data"
    }
   ],
   "source": [
    "def readfile(filename):\n",
    "    data = pd.read_csv(filename)\n",
    "    X = data.iloc[:, 0]\n",
    "    Y = data.iloc[:, 1]\n",
    "    #plt.scatter(X, Y)\n",
    "    #plt.show()\n",
    "    return X, Y\n",
    "\n",
    "\n",
    "# Building the model with least square root method\n",
    "def buildModel(X,Y):\n",
    "    X_mean = np.mean(X)\n",
    "    Y_mean = np.mean(Y)\n",
    "    num = 0\n",
    "    den = 0\n",
    "    for i in range(len(X)):\n",
    "        num += (X[i] - X_mean)*(Y[i] - Y_mean)\n",
    "        den += (X[i] - X_mean)**2\n",
    "    m = num / den\n",
    "    c = Y_mean - m*X_mean\n",
    "    print (m, c)\n",
    "    return m,c\n",
    "   \n",
    "    \n",
    "# Making predictions\n",
    "\n",
    "def bestFitLine(X,m,c):\n",
    "    Y_pred = m*X + c\n",
    "    return Y_pred\n",
    "    \n",
    "#Plot graph\n",
    "def plotGraph(X,Y,Y_pred):\n",
    "    plt.scatter(X, Y) # actual\n",
    "    plt.plot([min(X), max(X)], [min(Y_pred), max(Y_pred)], color='red') # predicted\n",
    "    plt.show()\n",
    "    \n",
    "\n",
    "def predict(x, m,c):\n",
    "    y_pred = c + m*x\n",
    "    return y_pred\n",
    "\n",
    "if __name__ == \"__main__\":\n",
    "    # load the dataset\n",
    "    X, Y = readfile('salary_data.csv')\n",
    "    m,c = buildModel(X,Y)\n",
    "    \n",
    "    Y_pred=bestFitLine(X,m,c)\n",
    "    print(Y_pred, Y)\n",
    "    plotGraph(X,Y,Y_pred)\n",
    "    x = input()\n",
    "    predictedValue = predict(x,m,c)\n",
    "   # print(predictedValue)\n",
    "    "
   ]
  },
  {
   "cell_type": "code",
   "execution_count": null,
   "metadata": {},
   "outputs": [],
   "source": []
  }
 ],
 "metadata": {
  "kernelspec": {
   "display_name": "Python 3",
   "language": "python",
   "name": "python3"
  },
  "language_info": {
   "codemirror_mode": {
    "name": "ipython",
    "version": 3
   },
   "file_extension": ".py",
   "mimetype": "text/x-python",
   "name": "python",
   "nbconvert_exporter": "python",
   "pygments_lexer": "ipython3",
   "version": "3.6.4"
  }
 },
 "nbformat": 4,
 "nbformat_minor": 2
}
